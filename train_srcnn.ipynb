{
 "cells": [
  {
   "cell_type": "markdown",
   "metadata": {},
   "source": [
    "### Reimplementation of Image Super-Resolution Using Deep Convolutional Network in PyTorch\n",
    "\n",
    "This notebook is the reimplementation of this [paper](https://arxiv.org/abs/1501.00092)"
   ]
  },
  {
   "cell_type": "code",
   "execution_count": 1,
   "metadata": {},
   "outputs": [],
   "source": [
    "import h5py\n",
    "import torch\n",
    "import torch.nn as nn\n",
    "import torch.optim as optim\n",
    "from torch.utils.data import DataLoader, Dataset\n",
    "import torchvision.transforms.functional as TF\n",
    "import numpy as np\n",
    "import time\n",
    "from torchvision.transforms.functional import to_pil_image\n",
    "import matplotlib.pyplot as plt\n",
    "from PIL import Image\n",
    "torch.manual_seed(42)\n",
    "\n",
    "device = torch.device('cuda' if torch.cuda.is_available() else 'cpu')"
   ]
  },
  {
   "cell_type": "markdown",
   "metadata": {},
   "source": [
    "### Load dataset"
   ]
  },
  {
   "cell_type": "code",
   "execution_count": 2,
   "metadata": {},
   "outputs": [],
   "source": [
    "class MyDataset(Dataset):\n",
    "    def __init__(self, file_path):\n",
    "        self.file = h5py.File(file_path, 'r')\n",
    "        self.data = self.file['data']\n",
    "        self.label = self.file['label']\n",
    "        \n",
    "    def __len__(self):\n",
    "        return len(self.data)\n",
    "    \n",
    "    def __getitem__(self,idx):\n",
    "        image = torch.tensor(self.data[idx], dtype=torch.float32)\n",
    "        label = torch.tensor(self.label[idx], dtype=torch.float32)\n",
    "        \n",
    "        return image, label\n",
    "    \n",
    "    def close(self):\n",
    "        self.file.close()       "
   ]
  },
  {
   "cell_type": "code",
   "execution_count": 3,
   "metadata": {},
   "outputs": [
    {
     "name": "stdout",
     "output_type": "stream",
     "text": [
      "Image test size:  torch.Size([3, 33, 33])\n"
     ]
    },
    {
     "data": {
      "image/png": "[encoded data removed]",
      "text/plain": [
       "<Figure size 640x480 with 1 Axes>"
      ]
     },
     "metadata": {},
     "output_type": "display_data"
    },
    {
     "data": {
      "image/png": "[encoded data removed]",
      "text/plain": [
       "<Figure size 640x480 with 1 Axes>"
      ]
     },
     "metadata": {},
     "output_type": "display_data"
    }
   ],
   "source": [
    "# Create an instance of MyDataset\n",
    "dataset = MyDataset('train.h5')\n",
    "test_dataset = MyDataset('test.h5')\n",
    "\n",
    "# Choose the index of the data point you want to print\n",
    "index_to_print = 0\n",
    "\n",
    "# Retrieve the specified data point from the dataset\n",
    "image, label = dataset[index_to_print]\n",
    "image_test, label_test = test_dataset[index_to_print]\n",
    "\n",
    "\"\"\" # Convert the image tensor to a PIL image for visualization\n",
    "pil_image = to_pil_image(image)\n",
    "pil_label = to_pil_image(label)\n",
    "# Display the image using Matplotlib\n",
    "plt.imshow(pil_image)\n",
    "plt.title(f\"Image at Index {index_to_print}\")\n",
    "plt.axis('off')  # Hide axes\n",
    "plt.show()\n",
    "\n",
    "# Print information about the label\n",
    "plt.imshow(pil_label) \"\"\"\n",
    "\n",
    "print(\"Image test size: \", image_test.size())\n",
    "# Convert the image tensor to a PIL image for visualization\n",
    "pil_image = to_pil_image(image_test)\n",
    "pil_label = to_pil_image(label_test)\n",
    "# Display the image using Matplotlib\n",
    "plt.imshow(pil_image)\n",
    "plt.title(f\"Image at Index {index_to_print}\")\n",
    "plt.axis('off')  # Hide axes\n",
    "plt.show()\n",
    "\n",
    "# Print information about the label\n",
    "\"\"\" print(f\"Label at Index {index_to_print}: {label}\") \"\"\"\n",
    "plt.imshow(pil_label)\n",
    "\n",
    "\n",
    "# Close the dataset (important for releasing resources)\n",
    "dataset.close()"
   ]
  },
  {
   "cell_type": "markdown",
   "metadata": {},
   "source": [
    "### Preparing Datasets and Dataloaders\n",
    "\n",
    "The train.h5 and test.h5 files are obtained by running the MATLAB scripts generate_train and generate_test respectively from [this](https://mmlab.ie.cuhk.edu.hk/projects/SRCNN/SRCNN_train.zip) source code given in the original paper"
   ]
  },
  {
   "cell_type": "code",
   "execution_count": 4,
   "metadata": {},
   "outputs": [],
   "source": [
    "# Define dataset and dataloader\n",
    "dataset = MyDataset('train.h5') \n",
    "train_loader = DataLoader(dataset, batch_size=128)\n",
    "\n",
    "dataset_test_set5 = MyDataset('test.h5')\n",
    "val_loader = DataLoader(dataset_test_set5, batch_size=128)"
   ]
  },
  {
   "cell_type": "markdown",
   "metadata": {},
   "source": [
    "### Defining the CNN model"
   ]
  },
  {
   "cell_type": "code",
   "execution_count": 5,
   "metadata": {},
   "outputs": [],
   "source": [
    "# Define the SRCNN model\n",
    "class SRCNN(nn.Module):\n",
    "    def __init__(self):\n",
    "        super(SRCNN, self).__init__()\n",
    "        self.conv1 = nn.Conv2d(3, 64, kernel_size=9, stride=1, padding=0)  # Changed input channels to 1\n",
    "        self.relu1 = nn.ReLU()\n",
    "        self.conv2 = nn.Conv2d(64, 32, kernel_size=1, stride=1, padding=0)\n",
    "        self.relu2 = nn.ReLU()\n",
    "        self.conv3 = nn.Conv2d(32, 3, kernel_size=5, stride=1, padding=0)  # Changed output channels to 1\n",
    "        \n",
    "        self._initialize_weights()\n",
    "\n",
    "    def forward(self, x):\n",
    "        out = self.relu1(self.conv1(x))\n",
    "        out = self.relu2(self.conv2(out))\n",
    "        out = self.conv3(out)\n",
    "        # Resize output to match labels dimensions (21, 21)\n",
    "        #out = F.interpolate(out, size=(21, 21), mode='bicubic', antialias=False)\n",
    "        return out\n",
    "    \n",
    "    def _initialize_weights(self):\n",
    "        # Initialize weights with Gaussian distribution (std=0.001) and bias with zeros\n",
    "        for m in self.modules():\n",
    "            if isinstance(m, nn.Conv2d):\n",
    "                # Initialize convolutional layer weights with Gaussian distribution (std=0.001)\n",
    "                nn.init.normal_(m.weight, mean=0, std=0.001)\n",
    "                if m.bias is not None:\n",
    "                    # Initialize bias with zeros\n",
    "                    nn.init.constant_(m.bias, 0)\n",
    "\n",
    "model = SRCNN()"
   ]
  },
  {
   "cell_type": "markdown",
   "metadata": {},
   "source": [
    "### Defining hyperparameters"
   ]
  },
  {
   "cell_type": "code",
   "execution_count": 34,
   "metadata": {},
   "outputs": [],
   "source": [
    "# Define different learning rates and multipliers for weights and biases\n",
    "learning_rates = {\n",
    "    'conv1_weight': 1e-4 * 1.0,\n",
    "    'conv1_bias': 1e-4  * 0.1,\n",
    "    'conv2_weight': 1e-4 * 1.0,\n",
    "    'conv2_bias': 1e-4 * 0.1,\n",
    "    'conv3_weight': 1e-5 * 0.1,\n",
    "    'conv3_bias': 1e-5 * 0.1 \n",
    "}\n",
    "\n",
    "# Group parameters and assign specific learning rates with multipliers\n",
    "param_groups = []\n",
    "for name, param in model.named_parameters():\n",
    "    if name in learning_rates:\n",
    "        lr = learning_rates[name]\n",
    "    else:\n",
    "        lr = 0.001  # Default learning rate for other parameters\n",
    "\n",
    "    param_groups.append({'params': param, 'lr': lr})\n",
    "\n",
    "#optimizer = optim.SGD(param_groups, lr=0.0001)\n",
    "#optimizer = optim.SGD(param_groups, lr=0.001, momentum=0.9,weight_decay=1e-4, nesterov=False)\n",
    "optimizer = optim.Adam( param_groups,lr=0.000001, weight_decay=1e-4)\n",
    "\n",
    "criterion = nn.MSELoss()\n",
    "criterion = criterion.to(device=device)\n",
    "criterion = nn.SmoothL1Loss()\n",
    "num_epochs = 10"
   ]
  },
  {
   "cell_type": "markdown",
   "metadata": {},
   "source": [
    "### Training loop"
   ]
  },
  {
   "cell_type": "code",
   "execution_count": 35,
   "metadata": {},
   "outputs": [
    {
     "name": "stdout",
     "output_type": "stream",
     "text": [
      "Epoch 1, Loss: 0.0019185011353864171\n",
      "Epoch 2, Loss: 0.0011362284510944257\n",
      "Epoch 3, Loss: 0.001124946225215407\n",
      "Epoch 4, Loss: 0.001122067338677452\n",
      "Epoch 5, Loss: 0.001111904242390986\n",
      "Epoch 6, Loss: 0.00110930173233261\n",
      "Epoch 7, Loss: 0.001105765562833232\n",
      "Epoch 8, Loss: 0.0011113561936380231\n",
      "Epoch 9, Loss: 0.0010923107808647567\n",
      "Epoch 10, Loss: 0.0011063256437945014\n",
      "Training completed in 189.27 seconds\n"
     ]
    }
   ],
   "source": [
    "start_time = time.time()\n",
    "\n",
    "for epoch in range(num_epochs):\n",
    "    model.train()\n",
    "    running_loss = 0.0\n",
    "\n",
    "    for batch_idx, (inputs, labels) in enumerate(train_loader):\n",
    "        # Forward pass\n",
    "        outputs = model(inputs)\n",
    "        #outputs_resized = torch.nn.functional.interpolate(outputs, size=(21,21), mode='bilinear', align_corners=False)\n",
    "\n",
    "        #print(\"Output dimension \", outputs_resized[0].size())\n",
    "        # Print shapes of outputs and labels\n",
    "        loss = criterion(outputs, labels)\n",
    "\n",
    "        # Backward pass and optimization\n",
    "        optimizer.zero_grad()\n",
    "        loss.backward()\n",
    "        optimizer.step()\n",
    "\n",
    "        running_loss += loss.item()\n",
    "\n",
    "    # Print average loss after each epoch\n",
    "    print(f\"Epoch {epoch + 1}, Loss: {running_loss / len(train_loader)}\")\n",
    "\n",
    "end_time = time.time()\n",
    "training_time_baseline = end_time - start_time\n",
    "print(f\"Training completed in {training_time_baseline:.2f} seconds\")\n",
    "# Save the trained model\n",
    "torch.save(model.state_dict(), 'srcnn_model.pth')"
   ]
  },
  {
   "cell_type": "code",
   "execution_count": 38,
   "metadata": {},
   "outputs": [
    {
     "data": {
      "image/png": "[encoded data removed]",
      "text/plain": [
       "<Figure size 800x400 with 2 Axes>"
      ]
     },
     "metadata": {},
     "output_type": "display_data"
    },
    {
     "name": "stdout",
     "output_type": "stream",
     "text": [
      "Validation Loss: 0.0005552052680286579\n"
     ]
    }
   ],
   "source": [
    "#Evaluate model on validation dataset\n",
    "model.eval()\n",
    "val_loss = 0.0\n",
    "for batch_idx, (val_inputs, val_labels) in enumerate(val_loader):\n",
    "    val_outputs = model(val_inputs)\n",
    "    #val_outputs = torch.nn.functional.interpolate(outputs, size=(21,21), mode='bilinear', align_corners=False)\n",
    "    \"\"\" print(val_labels[0])\n",
    "    print(val_outputs[0]) \"\"\"\n",
    "    \n",
    "    val_loss += criterion(val_outputs, val_labels).item()\n",
    "\n",
    "index_to_print = 5\n",
    "\n",
    "plt.figure(figsize=(8, 4))\n",
    "plt.subplot(1,2,1)\n",
    "plt.imshow(to_pil_image(val_labels[index_to_print]))\n",
    "plt.axis('off')\n",
    "\n",
    "plt.subplot(1,2,2)\n",
    "plt.imshow(to_pil_image(val_outputs[index_to_print]))\n",
    "plt.axis('off')\n",
    "\n",
    "plt.show()\n",
    "\n",
    "average_val_loss = val_loss / len(val_loader)\n",
    "print(f\"Validation Loss: {average_val_loss}\")"
   ]
  },
  {
   "cell_type": "code",
   "execution_count": 43,
   "metadata": {},
   "outputs": [
    {
     "data": {
      "image/png": "[encoded data removed]",
      "text/plain": [
       "<Figure size 800x400 with 2 Axes>"
      ]
     },
     "metadata": {},
     "output_type": "display_data"
    }
   ],
   "source": [
    "import torch\n",
    "import matplotlib.pyplot as plt\n",
    "\n",
    "# Load the input image\n",
    "input_image_path = 'butterfly_GT.bmp'\n",
    "input_image = Image.open(input_image_path).convert('RGB')\n",
    "\n",
    "# Define patch size and stride\n",
    "input_patch_size = 33\n",
    "output_patch_size = 21\n",
    "stride = 14\n",
    "stride = 10\n",
    "\n",
    "# Extract patches from the input image\n",
    "patches = []\n",
    "image_width, image_height = input_image.size\n",
    "\n",
    "for y in range(0, image_height - input_patch_size + 1, stride):\n",
    "    for x in range(0, image_width - input_patch_size + 1, stride):\n",
    "        # Crop input patch from the image\n",
    "        input_patch = input_image.crop((x, y, x + input_patch_size, y + input_patch_size))\n",
    "        input_patch_tensor = TF.to_tensor(input_patch)  # Convert patch to tensor (RGB format)\n",
    "        patches.append(input_patch_tensor)\n",
    "\n",
    "# Convert list of tensors to a batch tensor\n",
    "input_batch = torch.stack(patches)\n",
    "\n",
    "# Initialize and load the trained SRCNN model\n",
    "model = SRCNN()\n",
    "model.load_state_dict(torch.load('srcnn_model.pth'))\n",
    "model.eval()\n",
    "\n",
    "# Perform inference on the input patches using the model\n",
    "with torch.no_grad():\n",
    "    output_batch = model(input_batch)\n",
    "\n",
    "# Visualize and evaluate a specific output patch\n",
    "patch_index = 69  # Example patch index to visualize\n",
    "\n",
    "# Convert output patch tensor to a PIL image\n",
    "output_patch_tensor = output_batch[patch_index].detach().cpu()\n",
    "output_patch_pil = TF.to_pil_image(output_patch_tensor)\n",
    "\n",
    "# Display the input patch and the model's output (super-resolved patch)\n",
    "plt.figure(figsize=(8, 4))\n",
    "\n",
    "# Display input patch\n",
    "plt.subplot(1, 2, 1)\n",
    "input_patch_pil = TF.to_pil_image(input_batch[patch_index].detach().cpu())\n",
    "plt.imshow(input_patch_pil)\n",
    "plt.title('Input Patch (33x33)')\n",
    "plt.axis('off')\n",
    "\n",
    "# Display output patch (super-resolved)\n",
    "plt.subplot(1, 2, 2)\n",
    "plt.imshow(output_patch_pil)\n",
    "plt.title('Super-Resolved Patch (21x21)')\n",
    "plt.axis('off')\n",
    "\n",
    "plt.show()\n"
   ]
  },
  {
   "cell_type": "markdown",
   "metadata": {},
   "source": [
    "### Calculating PSNR values for validation images"
   ]
  },
  {
   "cell_type": "code",
   "execution_count": null,
   "metadata": {},
   "outputs": [],
   "source": [
    "# Function to calculate PSNR between two images\n",
    "def calculate_psnr(img1, img2):\n",
    "    mse = np.mean((img1 - img2) ** 2)\n",
    "    if mse == 0:\n",
    "        return float('inf')  # PSNR is infinite if images are identical\n",
    "    MAX = 255.0\n",
    "    psnr = 10 * np.log10((MAX**2) / mse)\n",
    "    return psnr"
   ]
  },
  {
   "cell_type": "code",
   "execution_count": null,
   "metadata": {},
   "outputs": [],
   "source": [
    "# Initialize list to store PSNR values\n",
    "psnr_values = []\n",
    "\n",
    "# Iterate over validation loader\n",
    "for inputs, labels in val_loader:\n",
    "    # Move inputs and labels to the device\n",
    "    inputs = inputs.to(device)\n",
    "    labels = labels.to(device)\n",
    "    \n",
    "    # Generate predictions using the model\n",
    "    with torch.no_grad():\n",
    "        outputs = model(inputs)\n",
    "        \n",
    "    \n",
    "    # Convert tensors to numpy arrays (RGB images)\n",
    "    outputs = outputs.cpu().detach().numpy()  # Convert model outputs to numpy arrays\n",
    "    print(outputs[0])\n",
    "    labels = labels.cpu().detach().numpy()  # Convert labels to numpy arrays\n",
    "    \n",
    "    output = to_pil_image(outputs.squeeze().cpu().numpy() )\n",
    "    plt.subplot(1, 2, 2)\n",
    "    plt.imshow(output)\n",
    "    plt.title('Model Prediction')\n",
    "    plt.axis('off')\n",
    "    \n",
    "    \n",
    "    # Calculate PSNR for each image pair in the batch\n",
    "    for i in range(outputs.shape[0]):  # Iterate over batch size\n",
    "        psnr_value = calculate_psnr(outputs[i].transpose(1, 2, 0), labels[i].transpose(1, 2, 0))  # Calculate PSNR for RGB images\n",
    "        psnr_values.append(psnr_value)\n",
    "\n",
    "# Compute average PSNR over all images in the dataset\n",
    "average_psnr = np.mean(psnr_values)\n",
    "print(f\"Average PSNR: {average_psnr:.2f} dB\")"
   ]
  },
  {
   "cell_type": "markdown",
   "metadata": {},
   "source": [
    "### Testing the model using test images"
   ]
  },
  {
   "cell_type": "code",
   "execution_count": null,
   "metadata": {},
   "outputs": [],
   "source": [
    "# Create DataLoader for test dataset\n",
    "test_dataset = MyDataset('test.h5')\n",
    "test_loader = DataLoader(test_dataset, batch_size=1, shuffle=False)  # Use batch_size=1 for inference\n",
    "\n",
    "# Load your trained SRCNN model\n",
    "model = SRCNN()  # Assuming you have defined your SRCNN model class\n",
    "model.load_state_dict(torch.load('srcnn_model.pth'))\n",
    "model.eval()\n",
    "\n",
    "# Choose the index of the patch to visualize (e.g., the first patch)\n",
    "patch_index = 2  # Change this index to visualize a different patch\n",
    "\n",
    "# Iterate through the test_loader to extract the specified patch\n",
    "with torch.no_grad():\n",
    "    for idx, (input_patch, label_patch) in enumerate(test_loader):\n",
    "        if idx == patch_index:\n",
    "            print(input_patch[idx])\n",
    "            # Perform inference on the input patch\n",
    "            output_tensor = model(input_patch)  # Forward pass through the model\n",
    "            print(\"Output tensor: \", output_tensor)\n",
    "            output_patch = output_tensor.squeeze().cpu().numpy()  # Convert model output to numpy array\n",
    "            \n",
    "            # Convert input and output patches to PIL images for visualization\n",
    "            input_pil = to_pil_image(input_patch)  # Convert input patch to PIL image\n",
    "            output_pil = to_pil_image(output_patch)  # Convert output patch to PIL image\n",
    "            \n",
    "            # Display the input patch and the model's output\n",
    "            plt.figure(figsize=(10, 5))\n",
    "            plt.subplot(1, 2, 1)\n",
    "            plt.imshow(input_pil)\n",
    "            plt.title('Input Patch')\n",
    "            plt.axis('off')\n",
    "            \n",
    "            plt.subplot(1, 2, 2)\n",
    "            plt.imshow(output_pil)\n",
    "            plt.title('Model Prediction')\n",
    "            plt.axis('off')\n",
    "            \n",
    "            plt.show()\n",
    "            break  # Stop iterating after visualizing the specified patch\n"
   ]
  }
 ],
 "metadata": {
  "kernelspec": {
   "display_name": "Python 3",
   "language": "python",
   "name": "python3"
  },
  "language_info": {
   "codemirror_mode": {
    "name": "ipython",
    "version": 3
   },
   "file_extension": ".py",
   "mimetype": "text/x-python",
   "name": "python",
   "nbconvert_exporter": "python",
   "pygments_lexer": "ipython3",
   "version": "3.11.5"
  }
 },
 "nbformat": 4,
 "nbformat_minor": 2
}
